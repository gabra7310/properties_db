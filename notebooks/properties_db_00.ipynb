{
 "cells": [
  {
   "cell_type": "markdown",
   "id": "8ee45067-351c-4825-b8e0-ad021157925e",
   "metadata": {},
   "source": [
    "# 0.0 Imports"
   ]
  },
  {
   "cell_type": "code",
   "execution_count": 1,
   "id": "347aea35-1a3f-45cc-87a5-067776812f82",
   "metadata": {},
   "outputs": [],
   "source": [
    "import pandas as pd\n",
    "import regex as re"
   ]
  },
  {
   "cell_type": "markdown",
   "id": "5b07bcb2-e33f-4535-b439-8c290e0ffd0b",
   "metadata": {},
   "source": [
    "# 0.1 Helper functions"
   ]
  },
  {
   "cell_type": "code",
   "execution_count": 2,
   "id": "3c5ea3a5-0584-471a-8685-59a0678ef44e",
   "metadata": {},
   "outputs": [],
   "source": [
    "df_raw_1 = pd.read_csv('../data/data-1703806461.csv')\n",
    "df_raw_2 = pd.read_csv('../data/data-1703806894.csv')\n",
    "df_raw_3 = pd.read_csv('../data/data-1703805541.csv')\n",
    "df_raw_4 = pd.read_csv('../data/data-1703779777.csv')\n",
    "df_raw_5 = pd.read_csv('../data/data-1703969930.csv')\n",
    "\n",
    "df_raw = pd.concat([df_raw_1, df_raw_2, df_raw_3, df_raw_4, df_raw_5])\n",
    "df_raw = df_raw.drop_duplicates(subset=['id'])"
   ]
  },
  {
   "cell_type": "code",
   "execution_count": 3,
   "id": "c6d6b411-7e3e-452d-89a2-20659a3b8cc8",
   "metadata": {},
   "outputs": [
    {
     "data": {
      "text/plain": [
       "(22341, 12)"
      ]
     },
     "execution_count": 3,
     "metadata": {},
     "output_type": "execute_result"
    }
   ],
   "source": [
    "df_raw.shape"
   ]
  },
  {
   "cell_type": "code",
   "execution_count": 21,
   "id": "3648a90e-95bf-4797-bc31-440f8a31e39c",
   "metadata": {},
   "outputs": [
    {
     "data": {
      "text/html": [
       "<div>\n",
       "<style scoped>\n",
       "    .dataframe tbody tr th:only-of-type {\n",
       "        vertical-align: middle;\n",
       "    }\n",
       "\n",
       "    .dataframe tbody tr th {\n",
       "        vertical-align: top;\n",
       "    }\n",
       "\n",
       "    .dataframe thead th {\n",
       "        text-align: right;\n",
       "    }\n",
       "</style>\n",
       "<table border=\"1\" class=\"dataframe\">\n",
       "  <thead>\n",
       "    <tr style=\"text-align: right;\">\n",
       "      <th></th>\n",
       "      <th>44</th>\n",
       "    </tr>\n",
       "  </thead>\n",
       "  <tbody>\n",
       "    <tr>\n",
       "      <th>Unnamed: 0</th>\n",
       "      <td>0</td>\n",
       "    </tr>\n",
       "    <tr>\n",
       "      <th>id</th>\n",
       "      <td>2657050159</td>\n",
       "    </tr>\n",
       "    <tr>\n",
       "      <th>usableAreas</th>\n",
       "      <td>['47']</td>\n",
       "    </tr>\n",
       "    <tr>\n",
       "      <th>createdAt</th>\n",
       "      <td>2023-09-21T14:07:18.919Z</td>\n",
       "    </tr>\n",
       "    <tr>\n",
       "      <th>displayAddressGeolocation</th>\n",
       "      <td>{'lon': -46.562258, 'lat': -23.525512}</td>\n",
       "    </tr>\n",
       "    <tr>\n",
       "      <th>parkingSpaces</th>\n",
       "      <td>[1]</td>\n",
       "    </tr>\n",
       "    <tr>\n",
       "      <th>suites</th>\n",
       "      <td>[]</td>\n",
       "    </tr>\n",
       "    <tr>\n",
       "      <th>bathrooms</th>\n",
       "      <td>[1]</td>\n",
       "    </tr>\n",
       "    <tr>\n",
       "      <th>bedrooms</th>\n",
       "      <td>[2]</td>\n",
       "    </tr>\n",
       "    <tr>\n",
       "      <th>pricingInfos</th>\n",
       "      <td>[{'yearlyIptu': '100', 'price': '430000', 'bus...</td>\n",
       "    </tr>\n",
       "    <tr>\n",
       "      <th>amenities</th>\n",
       "      <td>['POOL', 'BARBECUE_GRILL', 'GATED_COMMUNITY', ...</td>\n",
       "    </tr>\n",
       "    <tr>\n",
       "      <th>unitFloor</th>\n",
       "      <td>14</td>\n",
       "    </tr>\n",
       "  </tbody>\n",
       "</table>\n",
       "</div>"
      ],
      "text/plain": [
       "                                                                          44\n",
       "Unnamed: 0                                                                 0\n",
       "id                                                                2657050159\n",
       "usableAreas                                                           ['47']\n",
       "createdAt                                           2023-09-21T14:07:18.919Z\n",
       "displayAddressGeolocation             {'lon': -46.562258, 'lat': -23.525512}\n",
       "parkingSpaces                                                            [1]\n",
       "suites                                                                    []\n",
       "bathrooms                                                                [1]\n",
       "bedrooms                                                                 [2]\n",
       "pricingInfos               [{'yearlyIptu': '100', 'price': '430000', 'bus...\n",
       "amenities                  ['POOL', 'BARBECUE_GRILL', 'GATED_COMMUNITY', ...\n",
       "unitFloor                                                                 14"
      ]
     },
     "execution_count": 21,
     "metadata": {},
     "output_type": "execute_result"
    }
   ],
   "source": [
    "df_raw.sample(1).T"
   ]
  },
  {
   "cell_type": "code",
   "execution_count": 4,
   "id": "b740fbd8-9846-487e-8834-294963b58ae5",
   "metadata": {},
   "outputs": [],
   "source": [
    "df0 = df_raw.copy()"
   ]
  },
  {
   "cell_type": "code",
   "execution_count": 5,
   "id": "40796d72-66e7-41ba-83ad-4d52964cf438",
   "metadata": {},
   "outputs": [],
   "source": [
    "df0 = df0.drop(columns=['Unnamed: 0'], axis=1)"
   ]
  },
  {
   "cell_type": "code",
   "execution_count": 62,
   "id": "84075c1e",
   "metadata": {},
   "outputs": [
    {
     "data": {
      "text/html": [
       "<div>\n",
       "<style scoped>\n",
       "    .dataframe tbody tr th:only-of-type {\n",
       "        vertical-align: middle;\n",
       "    }\n",
       "\n",
       "    .dataframe tbody tr th {\n",
       "        vertical-align: top;\n",
       "    }\n",
       "\n",
       "    .dataframe thead th {\n",
       "        text-align: right;\n",
       "    }\n",
       "</style>\n",
       "<table border=\"1\" class=\"dataframe\">\n",
       "  <thead>\n",
       "    <tr style=\"text-align: right;\">\n",
       "      <th></th>\n",
       "      <th>5933</th>\n",
       "    </tr>\n",
       "  </thead>\n",
       "  <tbody>\n",
       "    <tr>\n",
       "      <th>id</th>\n",
       "      <td>2678852996</td>\n",
       "    </tr>\n",
       "    <tr>\n",
       "      <th>usableAreas</th>\n",
       "      <td>150</td>\n",
       "    </tr>\n",
       "    <tr>\n",
       "      <th>createdAt</th>\n",
       "      <td>2023-12-26T00:55:06.914Z</td>\n",
       "    </tr>\n",
       "    <tr>\n",
       "      <th>displayAddressGeolocation</th>\n",
       "      <td>{'lon': -46.736066, 'lat': -23.628053}</td>\n",
       "    </tr>\n",
       "    <tr>\n",
       "      <th>parkingSpaces</th>\n",
       "      <td>3</td>\n",
       "    </tr>\n",
       "    <tr>\n",
       "      <th>suites</th>\n",
       "      <td>1</td>\n",
       "    </tr>\n",
       "    <tr>\n",
       "      <th>bathrooms</th>\n",
       "      <td>2</td>\n",
       "    </tr>\n",
       "    <tr>\n",
       "      <th>bedrooms</th>\n",
       "      <td>3</td>\n",
       "    </tr>\n",
       "    <tr>\n",
       "      <th>pricingInfos</th>\n",
       "      <td>[{'yearlyIptu': '48000', 'price': '1150000', '...</td>\n",
       "    </tr>\n",
       "    <tr>\n",
       "      <th>amenities</th>\n",
       "      <td>['BALCONY', 'NUMBER_OF_FLOORS', 'GOURMET_BALCO...</td>\n",
       "    </tr>\n",
       "    <tr>\n",
       "      <th>unitFloor</th>\n",
       "      <td>14</td>\n",
       "    </tr>\n",
       "    <tr>\n",
       "      <th>createdAt_dt</th>\n",
       "      <td>2023-12-26 00:55:06.914000+00:00</td>\n",
       "    </tr>\n",
       "    <tr>\n",
       "      <th>locationLat</th>\n",
       "      <td>-23.628053</td>\n",
       "    </tr>\n",
       "    <tr>\n",
       "      <th>locationLon</th>\n",
       "      <td>-46.736066</td>\n",
       "    </tr>\n",
       "  </tbody>\n",
       "</table>\n",
       "</div>"
      ],
      "text/plain": [
       "                                                                        5933\n",
       "id                                                                2678852996\n",
       "usableAreas                                                              150\n",
       "createdAt                                           2023-12-26T00:55:06.914Z\n",
       "displayAddressGeolocation             {'lon': -46.736066, 'lat': -23.628053}\n",
       "parkingSpaces                                                              3\n",
       "suites                                                                     1\n",
       "bathrooms                                                                  2\n",
       "bedrooms                                                                   3\n",
       "pricingInfos               [{'yearlyIptu': '48000', 'price': '1150000', '...\n",
       "amenities                  ['BALCONY', 'NUMBER_OF_FLOORS', 'GOURMET_BALCO...\n",
       "unitFloor                                                                 14\n",
       "createdAt_dt                                2023-12-26 00:55:06.914000+00:00\n",
       "locationLat                                                       -23.628053\n",
       "locationLon                                                       -46.736066"
      ]
     },
     "execution_count": 62,
     "metadata": {},
     "output_type": "execute_result"
    }
   ],
   "source": [
    "df0.sample(1).T"
   ]
  },
  {
   "cell_type": "code",
   "execution_count": 7,
   "id": "700f42eb",
   "metadata": {},
   "outputs": [],
   "source": [
    "df0['usableAreas'] = df0['usableAreas'].str.extract(r\"(\\d+)\")\n",
    "df0['parkingSpaces'] = df0['parkingSpaces'].str.extract(r\"(\\d+)\")\n",
    "df0['suites'] = df0['suites'].str.extract(r\"(\\d+)\")\n",
    "df0['bathrooms'] = df0['bathrooms'].str.extract(r\"(\\d+)\")\n",
    "df0['bedrooms'] = df0['bedrooms'].str.extract(r\"(\\d+)\")"
   ]
  },
  {
   "cell_type": "code",
   "execution_count": 14,
   "id": "9e8f0e7e",
   "metadata": {},
   "outputs": [],
   "source": [
    "df0['createdAt_dt'] = pd.to_datetime(df0['createdAt'], format='ISO8601')"
   ]
  },
  {
   "cell_type": "code",
   "execution_count": 8,
   "id": "5fc726b6",
   "metadata": {},
   "outputs": [
    {
     "data": {
      "text/plain": [
       "id                              0\n",
       "usableAreas                     0\n",
       "createdAt                       0\n",
       "displayAddressGeolocation    1218\n",
       "parkingSpaces                 629\n",
       "suites                       2284\n",
       "bathrooms                       0\n",
       "bedrooms                        0\n",
       "pricingInfos                    0\n",
       "amenities                       0\n",
       "unitFloor                       0\n",
       "dtype: int64"
      ]
     },
     "execution_count": 8,
     "metadata": {},
     "output_type": "execute_result"
    }
   ],
   "source": [
    "df0.isna().sum()"
   ]
  },
  {
   "cell_type": "code",
   "execution_count": 60,
   "id": "87b70cd8",
   "metadata": {},
   "outputs": [],
   "source": [
    "df0[['locationLon', 'locationLat']] = df0['displayAddressGeolocation'].str.split(',', expand=True)\n",
    "\n",
    "df0['locationLat'] = df0['locationLat'].str.replace(\"'lat': \", \"\").str.replace('}', '').astype(float)\n",
    "\n",
    "df0['locationLon'] = df0['locationLon'].str.replace(\"{'lon': \", \"\").str.replace('{', '').astype(float)"
   ]
  },
  {
   "cell_type": "code",
   "execution_count": 67,
   "id": "22515ff5",
   "metadata": {},
   "outputs": [
    {
     "ename": "ValueError",
     "evalue": "Columns must be same length as key",
     "output_type": "error",
     "traceback": [
      "\u001b[1;31m---------------------------------------------------------------------------\u001b[0m",
      "\u001b[1;31mValueError\u001b[0m                                Traceback (most recent call last)",
      "Cell \u001b[1;32mIn[67], line 1\u001b[0m\n\u001b[1;32m----> 1\u001b[0m \u001b[43mdf0\u001b[49m\u001b[43m[\u001b[49m\u001b[43m[\u001b[49m\u001b[38;5;124;43m'\u001b[39;49m\u001b[38;5;124;43myearlyIptu\u001b[39;49m\u001b[38;5;124;43m'\u001b[39;49m\u001b[43m,\u001b[49m\u001b[43m \u001b[49m\u001b[38;5;124;43m'\u001b[39;49m\u001b[38;5;124;43mprice\u001b[39;49m\u001b[38;5;124;43m'\u001b[39;49m\u001b[43m,\u001b[49m\u001b[43m \u001b[49m\u001b[38;5;124;43m'\u001b[39;49m\u001b[38;5;124;43mbusinessType\u001b[39;49m\u001b[38;5;124;43m'\u001b[39;49m\u001b[43m,\u001b[49m\u001b[43m \u001b[49m\u001b[38;5;124;43m'\u001b[39;49m\u001b[38;5;124;43mmonthlyCondoFee\u001b[39;49m\u001b[38;5;124;43m'\u001b[39;49m\u001b[43m]\u001b[49m\u001b[43m]\u001b[49m \u001b[38;5;241m=\u001b[39m df0[\u001b[38;5;124m'\u001b[39m\u001b[38;5;124mpricingInfos\u001b[39m\u001b[38;5;124m'\u001b[39m]\u001b[38;5;241m.\u001b[39mstr\u001b[38;5;241m.\u001b[39msplit(\u001b[38;5;124m'\u001b[39m\u001b[38;5;124m,\u001b[39m\u001b[38;5;124m'\u001b[39m, expand\u001b[38;5;241m=\u001b[39m\u001b[38;5;28;01mTrue\u001b[39;00m)\n",
      "File \u001b[1;32mc:\\Users\\Gabriel\\anaconda3\\envs\\properties_db\\Lib\\site-packages\\pandas\\core\\frame.py:4079\u001b[0m, in \u001b[0;36mDataFrame.__setitem__\u001b[1;34m(self, key, value)\u001b[0m\n\u001b[0;32m   4077\u001b[0m     \u001b[38;5;28mself\u001b[39m\u001b[38;5;241m.\u001b[39m_setitem_frame(key, value)\n\u001b[0;32m   4078\u001b[0m \u001b[38;5;28;01melif\u001b[39;00m \u001b[38;5;28misinstance\u001b[39m(key, (Series, np\u001b[38;5;241m.\u001b[39mndarray, \u001b[38;5;28mlist\u001b[39m, Index)):\n\u001b[1;32m-> 4079\u001b[0m     \u001b[38;5;28;43mself\u001b[39;49m\u001b[38;5;241;43m.\u001b[39;49m\u001b[43m_setitem_array\u001b[49m\u001b[43m(\u001b[49m\u001b[43mkey\u001b[49m\u001b[43m,\u001b[49m\u001b[43m \u001b[49m\u001b[43mvalue\u001b[49m\u001b[43m)\u001b[49m\n\u001b[0;32m   4080\u001b[0m \u001b[38;5;28;01melif\u001b[39;00m \u001b[38;5;28misinstance\u001b[39m(value, DataFrame):\n\u001b[0;32m   4081\u001b[0m     \u001b[38;5;28mself\u001b[39m\u001b[38;5;241m.\u001b[39m_set_item_frame_value(key, value)\n",
      "File \u001b[1;32mc:\\Users\\Gabriel\\anaconda3\\envs\\properties_db\\Lib\\site-packages\\pandas\\core\\frame.py:4121\u001b[0m, in \u001b[0;36mDataFrame._setitem_array\u001b[1;34m(self, key, value)\u001b[0m\n\u001b[0;32m   4116\u001b[0m \u001b[38;5;28;01melse\u001b[39;00m:\n\u001b[0;32m   4117\u001b[0m     \u001b[38;5;66;03m# Note: unlike self.iloc[:, indexer] = value, this will\u001b[39;00m\n\u001b[0;32m   4118\u001b[0m     \u001b[38;5;66;03m#  never try to overwrite values inplace\u001b[39;00m\n\u001b[0;32m   4120\u001b[0m     \u001b[38;5;28;01mif\u001b[39;00m \u001b[38;5;28misinstance\u001b[39m(value, DataFrame):\n\u001b[1;32m-> 4121\u001b[0m         \u001b[43mcheck_key_length\u001b[49m\u001b[43m(\u001b[49m\u001b[38;5;28;43mself\u001b[39;49m\u001b[38;5;241;43m.\u001b[39;49m\u001b[43mcolumns\u001b[49m\u001b[43m,\u001b[49m\u001b[43m \u001b[49m\u001b[43mkey\u001b[49m\u001b[43m,\u001b[49m\u001b[43m \u001b[49m\u001b[43mvalue\u001b[49m\u001b[43m)\u001b[49m\n\u001b[0;32m   4122\u001b[0m         \u001b[38;5;28;01mfor\u001b[39;00m k1, k2 \u001b[38;5;129;01min\u001b[39;00m \u001b[38;5;28mzip\u001b[39m(key, value\u001b[38;5;241m.\u001b[39mcolumns):\n\u001b[0;32m   4123\u001b[0m             \u001b[38;5;28mself\u001b[39m[k1] \u001b[38;5;241m=\u001b[39m value[k2]\n",
      "File \u001b[1;32mc:\\Users\\Gabriel\\anaconda3\\envs\\properties_db\\Lib\\site-packages\\pandas\\core\\indexers\\utils.py:390\u001b[0m, in \u001b[0;36mcheck_key_length\u001b[1;34m(columns, key, value)\u001b[0m\n\u001b[0;32m    388\u001b[0m \u001b[38;5;28;01mif\u001b[39;00m columns\u001b[38;5;241m.\u001b[39mis_unique:\n\u001b[0;32m    389\u001b[0m     \u001b[38;5;28;01mif\u001b[39;00m \u001b[38;5;28mlen\u001b[39m(value\u001b[38;5;241m.\u001b[39mcolumns) \u001b[38;5;241m!=\u001b[39m \u001b[38;5;28mlen\u001b[39m(key):\n\u001b[1;32m--> 390\u001b[0m         \u001b[38;5;28;01mraise\u001b[39;00m \u001b[38;5;167;01mValueError\u001b[39;00m(\u001b[38;5;124m\"\u001b[39m\u001b[38;5;124mColumns must be same length as key\u001b[39m\u001b[38;5;124m\"\u001b[39m)\n\u001b[0;32m    391\u001b[0m \u001b[38;5;28;01melse\u001b[39;00m:\n\u001b[0;32m    392\u001b[0m     \u001b[38;5;66;03m# Missing keys in columns are represented as -1\u001b[39;00m\n\u001b[0;32m    393\u001b[0m     \u001b[38;5;28;01mif\u001b[39;00m \u001b[38;5;28mlen\u001b[39m(columns\u001b[38;5;241m.\u001b[39mget_indexer_non_unique(key)[\u001b[38;5;241m0\u001b[39m]) \u001b[38;5;241m!=\u001b[39m \u001b[38;5;28mlen\u001b[39m(value\u001b[38;5;241m.\u001b[39mcolumns):\n",
      "\u001b[1;31mValueError\u001b[0m: Columns must be same length as key"
     ]
    }
   ],
   "source": [
    "df0[['yearlyIptu', 'price', 'businessType', 'monthlyCondoFee']] = df0['pricingInfos'].str.split(',', expand=True)"
   ]
  },
  {
   "cell_type": "code",
   "execution_count": 89,
   "id": "24e32f02",
   "metadata": {},
   "outputs": [],
   "source": [
    "df1 = df0.copy()"
   ]
  },
  {
   "cell_type": "code",
   "execution_count": 82,
   "id": "d1fe49a0",
   "metadata": {},
   "outputs": [],
   "source": [
    "df1['pricingInfos']= df1['pricingInfos'].str.findall()"
   ]
  },
  {
   "cell_type": "code",
   "execution_count": 99,
   "id": "ecbc0dc1",
   "metadata": {},
   "outputs": [
    {
     "data": {
      "text/plain": [
       "\"[{'yearlyIptu': '1800', 'price': '575000', 'businessType': 'SALE', 'monthlyCondoFee': '550'}]\""
      ]
     },
     "execution_count": 99,
     "metadata": {},
     "output_type": "execute_result"
    }
   ],
   "source": [
    "df1.iloc[0, 8]"
   ]
  },
  {
   "cell_type": "code",
   "execution_count": 189,
   "id": "b470518e",
   "metadata": {},
   "outputs": [
    {
     "data": {
      "text/plain": [
       "['3100', '720000']"
      ]
     },
     "execution_count": 189,
     "metadata": {},
     "output_type": "execute_result"
    }
   ],
   "source": [
    "re.findall(r\"(\\d+)\", \"[('price', '3100'), ('price', '720000')]\")"
   ]
  },
  {
   "cell_type": "code",
   "execution_count": 203,
   "id": "c5f0c277",
   "metadata": {},
   "outputs": [],
   "source": [
    "df1['yearlyIptu'] = df1['pricingInfos'].str.findall(r\"(yearlyIptu)': '(\\d+)\").astype(str).str.extract(r\"(\\d+)\")\n",
    "\n",
    "df1['price'] = df1['pricingInfos'].str.findall(r\"(price)': '(\\d+)\").astype(str).str.findall(r\"(\\d+)\").apply(lambda x: x[1] if len(x)>1 else x[0])\n",
    "\n",
    "df1['monthlyCondoFee'] = df1['pricingInfos'].str.findall(r\"(monthlyCondoFee)': '(\\d+)\").astype(str).str.extract(r\"(\\d+)\")\n",
    "\n",
    "#df1['yearlyIptu'] = df1['yearlyIptu'].str.extract(r\"(\\d+)\")"
   ]
  },
  {
   "cell_type": "code",
   "execution_count": 182,
   "id": "acfc45d6",
   "metadata": {},
   "outputs": [
    {
     "data": {
      "text/plain": [
       "\"[{'rentalInfo': {'period': 'MONTHLY', 'warranties': [], 'monthlyRentalTotalPrice': '3895'}, 'yearlyIptu': '203', 'price': '3100', 'businessType': 'RENTAL', 'monthlyCondoFee': '795'}, {'yearlyIptu': '203', 'price': '720000', 'businessType': 'SALE', 'monthlyCondoFee': '795'}]\""
      ]
     },
     "execution_count": 182,
     "metadata": {},
     "output_type": "execute_result"
    }
   ],
   "source": [
    "df1.iloc[998,8]"
   ]
  },
  {
   "cell_type": "code",
   "execution_count": 205,
   "id": "f630b703",
   "metadata": {},
   "outputs": [
    {
     "data": {
      "text/plain": [
       "'720000'"
      ]
     },
     "execution_count": 205,
     "metadata": {},
     "output_type": "execute_result"
    }
   ],
   "source": [
    "df1.iloc[998,16]"
   ]
  },
  {
   "cell_type": "code",
   "execution_count": 206,
   "id": "983d9c37",
   "metadata": {},
   "outputs": [
    {
     "data": {
      "text/html": [
       "<div>\n",
       "<style scoped>\n",
       "    .dataframe tbody tr th:only-of-type {\n",
       "        vertical-align: middle;\n",
       "    }\n",
       "\n",
       "    .dataframe tbody tr th {\n",
       "        vertical-align: top;\n",
       "    }\n",
       "\n",
       "    .dataframe thead th {\n",
       "        text-align: right;\n",
       "    }\n",
       "</style>\n",
       "<table border=\"1\" class=\"dataframe\">\n",
       "  <thead>\n",
       "    <tr style=\"text-align: right;\">\n",
       "      <th></th>\n",
       "      <th>5161</th>\n",
       "    </tr>\n",
       "  </thead>\n",
       "  <tbody>\n",
       "    <tr>\n",
       "      <th>id</th>\n",
       "      <td>2679266895</td>\n",
       "    </tr>\n",
       "    <tr>\n",
       "      <th>usableAreas</th>\n",
       "      <td>96</td>\n",
       "    </tr>\n",
       "    <tr>\n",
       "      <th>createdAt</th>\n",
       "      <td>2023-12-27T16:43:25.122Z</td>\n",
       "    </tr>\n",
       "    <tr>\n",
       "      <th>displayAddressGeolocation</th>\n",
       "      <td>{'lon': -46.711365, 'lat': -23.522746}</td>\n",
       "    </tr>\n",
       "    <tr>\n",
       "      <th>parkingSpaces</th>\n",
       "      <td>3</td>\n",
       "    </tr>\n",
       "    <tr>\n",
       "      <th>suites</th>\n",
       "      <td>0</td>\n",
       "    </tr>\n",
       "    <tr>\n",
       "      <th>bathrooms</th>\n",
       "      <td>1</td>\n",
       "    </tr>\n",
       "    <tr>\n",
       "      <th>bedrooms</th>\n",
       "      <td>3</td>\n",
       "    </tr>\n",
       "    <tr>\n",
       "      <th>pricingInfos</th>\n",
       "      <td>[{'yearlyIptu': '680', 'price': '1484400', 'bu...</td>\n",
       "    </tr>\n",
       "    <tr>\n",
       "      <th>amenities</th>\n",
       "      <td>['PLAYGROUND', 'PARTY_HALL', 'PETS_ALLOWED']</td>\n",
       "    </tr>\n",
       "    <tr>\n",
       "      <th>unitFloor</th>\n",
       "      <td>0</td>\n",
       "    </tr>\n",
       "    <tr>\n",
       "      <th>createdAt_dt</th>\n",
       "      <td>2023-12-27 16:43:25.122000+00:00</td>\n",
       "    </tr>\n",
       "    <tr>\n",
       "      <th>locationLat</th>\n",
       "      <td>-23.522746</td>\n",
       "    </tr>\n",
       "    <tr>\n",
       "      <th>locationLon</th>\n",
       "      <td>-46.711365</td>\n",
       "    </tr>\n",
       "    <tr>\n",
       "      <th>yearlyIptu</th>\n",
       "      <td>680</td>\n",
       "    </tr>\n",
       "    <tr>\n",
       "      <th>yearlyIptu2</th>\n",
       "      <td>680</td>\n",
       "    </tr>\n",
       "    <tr>\n",
       "      <th>price</th>\n",
       "      <td>1484400</td>\n",
       "    </tr>\n",
       "    <tr>\n",
       "      <th>monthlyCondoFee</th>\n",
       "      <td>1400</td>\n",
       "    </tr>\n",
       "  </tbody>\n",
       "</table>\n",
       "</div>"
      ],
      "text/plain": [
       "                                                                        5161\n",
       "id                                                                2679266895\n",
       "usableAreas                                                               96\n",
       "createdAt                                           2023-12-27T16:43:25.122Z\n",
       "displayAddressGeolocation             {'lon': -46.711365, 'lat': -23.522746}\n",
       "parkingSpaces                                                              3\n",
       "suites                                                                     0\n",
       "bathrooms                                                                  1\n",
       "bedrooms                                                                   3\n",
       "pricingInfos               [{'yearlyIptu': '680', 'price': '1484400', 'bu...\n",
       "amenities                       ['PLAYGROUND', 'PARTY_HALL', 'PETS_ALLOWED']\n",
       "unitFloor                                                                  0\n",
       "createdAt_dt                                2023-12-27 16:43:25.122000+00:00\n",
       "locationLat                                                       -23.522746\n",
       "locationLon                                                       -46.711365\n",
       "yearlyIptu                                                               680\n",
       "yearlyIptu2                                                              680\n",
       "price                                                                1484400\n",
       "monthlyCondoFee                                                         1400"
      ]
     },
     "execution_count": 206,
     "metadata": {},
     "output_type": "execute_result"
    }
   ],
   "source": [
    "df1.sample(1).T"
   ]
  }
 ],
 "metadata": {
  "kernelspec": {
   "display_name": "Python 3 (ipykernel)",
   "language": "python",
   "name": "python3"
  },
  "language_info": {
   "codemirror_mode": {
    "name": "ipython",
    "version": 3
   },
   "file_extension": ".py",
   "mimetype": "text/x-python",
   "name": "python",
   "nbconvert_exporter": "python",
   "pygments_lexer": "ipython3",
   "version": "3.12.0"
  }
 },
 "nbformat": 4,
 "nbformat_minor": 5
}
