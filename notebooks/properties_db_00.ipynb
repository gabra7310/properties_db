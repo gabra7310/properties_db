{
 "cells": [
  {
   "cell_type": "markdown",
   "id": "8ee45067-351c-4825-b8e0-ad021157925e",
   "metadata": {},
   "source": [
    "# 0.0 Imports"
   ]
  },
  {
   "cell_type": "code",
   "execution_count": 342,
   "id": "347aea35-1a3f-45cc-87a5-067776812f82",
   "metadata": {},
   "outputs": [],
   "source": [
    "import pandas as pd\n",
    "import regex as re\n",
    "import numpy as np\n",
    "\n",
    "from sklearn  import model_selection as ms"
   ]
  },
  {
   "cell_type": "markdown",
   "id": "5b07bcb2-e33f-4535-b439-8c290e0ffd0b",
   "metadata": {},
   "source": [
    "# 0.1 Helper functions"
   ]
  },
  {
   "cell_type": "markdown",
   "id": "5253b463",
   "metadata": {},
   "source": [
    "# 0.2 Loading data"
   ]
  },
  {
   "cell_type": "code",
   "execution_count": 2,
   "id": "3c5ea3a5-0584-471a-8685-59a0678ef44e",
   "metadata": {},
   "outputs": [],
   "source": [
    "df_raw_1 = pd.read_csv('../data/data-1703806461.csv')\n",
    "df_raw_2 = pd.read_csv('../data/data-1703806894.csv')\n",
    "df_raw_3 = pd.read_csv('../data/data-1703805541.csv')\n",
    "df_raw_4 = pd.read_csv('../data/data-1703779777.csv')\n",
    "df_raw_5 = pd.read_csv('../data/data-1703969930.csv')\n",
    "\n",
    "df_raw = pd.concat([df_raw_1, df_raw_2, df_raw_3, df_raw_4, df_raw_5])\n",
    "df_raw = df_raw.drop_duplicates(subset=['id'])"
   ]
  },
  {
   "cell_type": "markdown",
   "id": "9d25f1a2",
   "metadata": {},
   "source": [
    "# 1.0 Data description"
   ]
  },
  {
   "cell_type": "code",
   "execution_count": 295,
   "id": "b740fbd8-9846-487e-8834-294963b58ae5",
   "metadata": {},
   "outputs": [],
   "source": [
    "df1 = df_raw.copy()"
   ]
  },
  {
   "cell_type": "markdown",
   "id": "106c528e",
   "metadata": {},
   "source": [
    "## 1.1 Data dimension"
   ]
  },
  {
   "cell_type": "code",
   "execution_count": 255,
   "id": "07f4f216",
   "metadata": {},
   "outputs": [
    {
     "name": "stdout",
     "output_type": "stream",
     "text": [
      "Number of rows: 22341\n",
      "Number of cols: 12\n"
     ]
    }
   ],
   "source": [
    "print('Number of rows: {}'.format(df1.shape[0]))\n",
    "print('Number of cols: {}'.format(df1.shape[1]))"
   ]
  },
  {
   "cell_type": "markdown",
   "id": "52ea856d",
   "metadata": {},
   "source": [
    "## 1.2 Data types"
   ]
  },
  {
   "cell_type": "code",
   "execution_count": 256,
   "id": "edd410a8",
   "metadata": {},
   "outputs": [
    {
     "data": {
      "text/plain": [
       "Unnamed: 0                    int64\n",
       "id                            int64\n",
       "usableAreas                  object\n",
       "createdAt                    object\n",
       "displayAddressGeolocation    object\n",
       "parkingSpaces                object\n",
       "suites                       object\n",
       "bathrooms                    object\n",
       "bedrooms                     object\n",
       "pricingInfos                 object\n",
       "amenities                    object\n",
       "unitFloor                     int64\n",
       "dtype: object"
      ]
     },
     "execution_count": 256,
     "metadata": {},
     "output_type": "execute_result"
    }
   ],
   "source": [
    "df1.dtypes"
   ]
  },
  {
   "cell_type": "markdown",
   "id": "aa8f64b0",
   "metadata": {},
   "source": [
    "## 1.3 Check NA"
   ]
  },
  {
   "cell_type": "code",
   "execution_count": 257,
   "id": "96e484ec",
   "metadata": {},
   "outputs": [
    {
     "data": {
      "text/plain": [
       "Unnamed: 0                      0\n",
       "id                              0\n",
       "usableAreas                     0\n",
       "createdAt                       0\n",
       "displayAddressGeolocation    1218\n",
       "parkingSpaces                   0\n",
       "suites                          0\n",
       "bathrooms                       0\n",
       "bedrooms                        0\n",
       "pricingInfos                    0\n",
       "amenities                       0\n",
       "unitFloor                       0\n",
       "dtype: int64"
      ]
     },
     "execution_count": 257,
     "metadata": {},
     "output_type": "execute_result"
    }
   ],
   "source": [
    "df1.isna().sum()"
   ]
  },
  {
   "cell_type": "markdown",
   "id": "a1f7cd1e",
   "metadata": {},
   "source": [
    "## 1.4 Drop NA"
   ]
  },
  {
   "cell_type": "code",
   "execution_count": 296,
   "id": "0dd92995",
   "metadata": {},
   "outputs": [],
   "source": [
    "df1 = df1.dropna()"
   ]
  },
  {
   "cell_type": "code",
   "execution_count": 297,
   "id": "40796d72-66e7-41ba-83ad-4d52964cf438",
   "metadata": {},
   "outputs": [],
   "source": [
    "df1 = df1.drop(columns=['Unnamed: 0'], axis=1)"
   ]
  },
  {
   "cell_type": "markdown",
   "id": "a3d075a5",
   "metadata": {},
   "source": [
    "## 1.5 Change types"
   ]
  },
  {
   "cell_type": "code",
   "execution_count": 298,
   "id": "91815720",
   "metadata": {},
   "outputs": [],
   "source": [
    "# Removing the [''] from values, extracting only the numbers\n",
    "df1['usableAreas'] = df1['usableAreas'].str.extract(r\"(\\d+)\")\n",
    "df1['parkingSpaces'] = df1['parkingSpaces'].str.extract(r\"(\\d+)\")\n",
    "df1['suites'] = df1['suites'].str.extract(r\"(\\d+)\")\n",
    "df1['bathrooms'] = df1['bathrooms'].str.extract(r\"(\\d+)\").astype('int64')\n",
    "df1['bedrooms'] = df1['bedrooms'].str.extract(r\"(\\d+)\").astype('int64')\n",
    "\n",
    "# Converting to int64\n",
    "df1['usableAreas'] = df1['usableAreas'].astype('int64')\n",
    "df1['parkingSpaces'] = df1['parkingSpaces'].fillna(0).astype('int64')\n",
    "df1['suites'] = df1['suites'].fillna(0).astype('int64')"
   ]
  },
  {
   "cell_type": "code",
   "execution_count": 301,
   "id": "997c19b1",
   "metadata": {},
   "outputs": [],
   "source": [
    "# Converting to date type\n",
    "df1['createdAt_dt'] = pd.to_datetime(df1['createdAt'], format='ISO8601')"
   ]
  },
  {
   "cell_type": "code",
   "execution_count": 302,
   "id": "cdaceb48",
   "metadata": {},
   "outputs": [
    {
     "data": {
      "text/plain": [
       "id                                         int64\n",
       "usableAreas                                int64\n",
       "createdAt                                 object\n",
       "displayAddressGeolocation                 object\n",
       "parkingSpaces                              int64\n",
       "suites                                     int64\n",
       "bathrooms                                  int64\n",
       "bedrooms                                   int64\n",
       "pricingInfos                              object\n",
       "amenities                                 object\n",
       "unitFloor                                  int64\n",
       "createdAt_dt                 datetime64[ns, UTC]\n",
       "dtype: object"
      ]
     },
     "execution_count": 302,
     "metadata": {},
     "output_type": "execute_result"
    }
   ],
   "source": [
    "df1.dtypes"
   ]
  },
  {
   "cell_type": "markdown",
   "id": "53647635",
   "metadata": {},
   "source": [
    "## 1.6 Descriptive statistical"
   ]
  },
  {
   "cell_type": "code",
   "execution_count": 306,
   "id": "82b5c59e",
   "metadata": {},
   "outputs": [],
   "source": [
    "num_attributes = df1[['id', 'usableAreas', 'parkingSpaces', 'suites', 'bathrooms', 'bedrooms', 'unitFloor']]\n",
    "#cat_attributes = df1[[]]"
   ]
  },
  {
   "cell_type": "code",
   "execution_count": 308,
   "id": "14e44ca1",
   "metadata": {},
   "outputs": [],
   "source": [
    "pd.set_option('display.float_format', lambda x: '%.3f' % x)"
   ]
  },
  {
   "cell_type": "code",
   "execution_count": 309,
   "id": "1c45a90c",
   "metadata": {},
   "outputs": [
    {
     "data": {
      "text/html": [
       "<div>\n",
       "<style scoped>\n",
       "    .dataframe tbody tr th:only-of-type {\n",
       "        vertical-align: middle;\n",
       "    }\n",
       "\n",
       "    .dataframe tbody tr th {\n",
       "        vertical-align: top;\n",
       "    }\n",
       "\n",
       "    .dataframe thead th {\n",
       "        text-align: right;\n",
       "    }\n",
       "</style>\n",
       "<table border=\"1\" class=\"dataframe\">\n",
       "  <thead>\n",
       "    <tr style=\"text-align: right;\">\n",
       "      <th></th>\n",
       "      <th>min</th>\n",
       "      <th>max</th>\n",
       "      <th>mean</th>\n",
       "      <th>std</th>\n",
       "      <th>range</th>\n",
       "      <th>kurt</th>\n",
       "      <th>skew</th>\n",
       "    </tr>\n",
       "  </thead>\n",
       "  <tbody>\n",
       "    <tr>\n",
       "      <th>id</th>\n",
       "      <td>39560479.000</td>\n",
       "      <td>2679904494.000</td>\n",
       "      <td>2627133188.587</td>\n",
       "      <td>213302692.640</td>\n",
       "      <td>-2640344015.000</td>\n",
       "      <td>118.208</td>\n",
       "      <td>-10.558</td>\n",
       "    </tr>\n",
       "    <tr>\n",
       "      <th>usableAreas</th>\n",
       "      <td>10.000</td>\n",
       "      <td>5000.000</td>\n",
       "      <td>97.786</td>\n",
       "      <td>99.832</td>\n",
       "      <td>-4990.000</td>\n",
       "      <td>806.516</td>\n",
       "      <td>19.907</td>\n",
       "    </tr>\n",
       "    <tr>\n",
       "      <th>parkingSpaces</th>\n",
       "      <td>0.000</td>\n",
       "      <td>190.000</td>\n",
       "      <td>1.519</td>\n",
       "      <td>1.867</td>\n",
       "      <td>-190.000</td>\n",
       "      <td>5337.881</td>\n",
       "      <td>57.873</td>\n",
       "    </tr>\n",
       "    <tr>\n",
       "      <th>suites</th>\n",
       "      <td>0.000</td>\n",
       "      <td>6.000</td>\n",
       "      <td>1.010</td>\n",
       "      <td>1.054</td>\n",
       "      <td>-6.000</td>\n",
       "      <td>0.638</td>\n",
       "      <td>1.094</td>\n",
       "    </tr>\n",
       "    <tr>\n",
       "      <th>bathrooms</th>\n",
       "      <td>0.000</td>\n",
       "      <td>12.000</td>\n",
       "      <td>2.242</td>\n",
       "      <td>1.319</td>\n",
       "      <td>-12.000</td>\n",
       "      <td>1.153</td>\n",
       "      <td>1.167</td>\n",
       "    </tr>\n",
       "    <tr>\n",
       "      <th>bedrooms</th>\n",
       "      <td>1.000</td>\n",
       "      <td>12.000</td>\n",
       "      <td>2.385</td>\n",
       "      <td>0.836</td>\n",
       "      <td>-11.000</td>\n",
       "      <td>1.464</td>\n",
       "      <td>0.361</td>\n",
       "    </tr>\n",
       "    <tr>\n",
       "      <th>unitFloor</th>\n",
       "      <td>0.000</td>\n",
       "      <td>191.000</td>\n",
       "      <td>3.256</td>\n",
       "      <td>7.482</td>\n",
       "      <td>-191.000</td>\n",
       "      <td>62.665</td>\n",
       "      <td>5.673</td>\n",
       "    </tr>\n",
       "  </tbody>\n",
       "</table>\n",
       "</div>"
      ],
      "text/plain": [
       "                       min            max           mean           std  \\\n",
       "id            39560479.000 2679904494.000 2627133188.587 213302692.640   \n",
       "usableAreas         10.000       5000.000         97.786        99.832   \n",
       "parkingSpaces        0.000        190.000          1.519         1.867   \n",
       "suites               0.000          6.000          1.010         1.054   \n",
       "bathrooms            0.000         12.000          2.242         1.319   \n",
       "bedrooms             1.000         12.000          2.385         0.836   \n",
       "unitFloor            0.000        191.000          3.256         7.482   \n",
       "\n",
       "                        range     kurt    skew  \n",
       "id            -2640344015.000  118.208 -10.558  \n",
       "usableAreas         -4990.000  806.516  19.907  \n",
       "parkingSpaces        -190.000 5337.881  57.873  \n",
       "suites                 -6.000    0.638   1.094  \n",
       "bathrooms             -12.000    1.153   1.167  \n",
       "bedrooms              -11.000    1.464   0.361  \n",
       "unitFloor            -191.000   62.665   5.673  "
      ]
     },
     "execution_count": 309,
     "metadata": {},
     "output_type": "execute_result"
    }
   ],
   "source": [
    "# Numerical attributes\n",
    "df_aux = num_attributes.describe().T[['min', 'max', 'mean', 'std']]\n",
    "range_ = df_aux['min'] - df_aux['max']\n",
    "kurt = num_attributes.kurt(axis=0)\n",
    "skew = num_attributes.skew(axis=0)\n",
    "\n",
    "df_aux['range'] = range_\n",
    "df_aux['kurt'] = kurt\n",
    "df_aux['skew'] = skew\n",
    "\n",
    "df_aux"
   ]
  },
  {
   "cell_type": "markdown",
   "id": "bc5e443d",
   "metadata": {},
   "source": [
    "# 2.0 Feature engineering"
   ]
  },
  {
   "cell_type": "code",
   "execution_count": 357,
   "id": "bede6b8c",
   "metadata": {},
   "outputs": [],
   "source": [
    "df2 = df1.copy()"
   ]
  },
  {
   "cell_type": "markdown",
   "id": "f1524169",
   "metadata": {},
   "source": [
    "## 2.1 Feature engineering"
   ]
  },
  {
   "cell_type": "code",
   "execution_count": 358,
   "id": "35ad082c",
   "metadata": {},
   "outputs": [],
   "source": [
    "# Dealing with 'displayAddressGeolocation'\n",
    "df2[['locationLon', 'locationLat']] = df2['displayAddressGeolocation'].str.split(',', expand=True)\n",
    "\n",
    "df2['locationLat'] = df2['locationLat'].str.replace(\"'lat': \", \"\").str.replace('}', '').astype(float)\n",
    "\n",
    "df2['locationLon'] = df2['locationLon'].str.replace(\"{'lon': \", \"\").str.replace('{', '').astype(float)"
   ]
  },
  {
   "cell_type": "code",
   "execution_count": 359,
   "id": "3a635a79",
   "metadata": {},
   "outputs": [],
   "source": [
    "# Dealing with 'pricingInfos'\n",
    "df2['yearlyIptu'] = df2['pricingInfos'].str.findall(r\"(yearlyIptu)': '(\\d+)\").astype(str).str.extract(r\"(\\d+)\")\n",
    "\n",
    "df2['price'] = df2['pricingInfos'].str.findall(r\"(price)': '(\\d+)\").astype(str).str.findall(r\"(\\d+)\").apply(lambda x: x[1] if len(x)>1 else x[0])\n",
    "\n",
    "df2['monthlyCondoFee'] = df2['pricingInfos'].str.findall(r\"(monthlyCondoFee)': '(\\d+)\").astype(str).str.extract(r\"(\\d+)\")"
   ]
  },
  {
   "cell_type": "code",
   "execution_count": 364,
   "id": "414a9769",
   "metadata": {},
   "outputs": [],
   "source": [
    "# Converting to int type\n",
    "\n",
    "df2['price'] = df2['price'].astype('int64')"
   ]
  },
  {
   "cell_type": "code",
   "execution_count": 360,
   "id": "c80949f5",
   "metadata": {},
   "outputs": [],
   "source": [
    "# Dealing with 'amenities'\n",
    "\n",
    "## Converting to a list\n",
    "df2['amenitiesList'] = df2['amenities'].str.findall(r\"[a-zA-Z]+\")\n",
    "\n",
    "## Count of amenities\n",
    "df2['amenitiesCount'] = df2['amenitiesList'].apply(lambda x: len(x))\n",
    "\n",
    "## Has elevator\n",
    "df2['amenitiesElevator'] = df2['amenitiesList'].apply(lambda x: 1 if 'ELEVATOR' in x else 0)\n",
    "\n",
    "## Has pool\n",
    "df2['amenitiesPool'] = df2['amenitiesList'].apply(lambda x: 1 if 'POOL' in x else 0)\n",
    "\n",
    "## Has gym\n",
    "df2['amenitiesGym'] = df2['amenitiesList'].apply(lambda x: 1 if 'GYM' in x else 0)\n",
    "\n",
    "## Has barbecue\n",
    "df2['amenitiesBarbecue'] = df2['amenitiesList'].apply(lambda x: 1 if 'BARBECUE' in x else 0)"
   ]
  },
  {
   "cell_type": "code",
   "execution_count": 361,
   "id": "a925dc54",
   "metadata": {},
   "outputs": [],
   "source": [
    "# Dealing with 'createdAt_dt'\n",
    "\n",
    "## year\n",
    "df2['createdAt_year'] = df2['createdAt_dt'].dt.year\n",
    "\n",
    "## month\n",
    "df2['createdAt_month'] = df2['createdAt_dt'].dt.month\n",
    "\n",
    "## day\n",
    "df2['createdAt_day'] = df2['createdAt_dt'].dt.day"
   ]
  },
  {
   "cell_type": "code",
   "execution_count": 365,
   "id": "21273ba9",
   "metadata": {},
   "outputs": [],
   "source": [
    "# Creating unitary value - this feature will be the response of our project\n",
    "\n",
    "df2['unitaryValue'] = df2['price'] / df2['usableAreas']"
   ]
  },
  {
   "cell_type": "code",
   "execution_count": 366,
   "id": "cf3f03fd",
   "metadata": {},
   "outputs": [],
   "source": [
    "# Drop equivalents columns\n",
    "columns = ['createdAt', 'displayAddressGeolocation', 'pricingInfos', 'amenities', 'price']\n",
    "df2 = df2.drop(columns=columns, axis=1).copy()"
   ]
  },
  {
   "cell_type": "markdown",
   "id": "65beb174",
   "metadata": {},
   "source": [
    "## 2.2 Splitting dataset"
   ]
  },
  {
   "cell_type": "code",
   "execution_count": 375,
   "id": "3e241780",
   "metadata": {},
   "outputs": [],
   "source": [
    "X = df2.drop('unitaryValue', axis=1).copy()\n",
    "y = df2['unitaryValue'].copy()\n",
    "\n",
    "X_train, X_test, y_train, y_test = ms.train_test_split(X, y, test_size = 0.20, random_state = 42)\n",
    "\n",
    "df2 = pd.concat([X_train, y_train], axis=1)\n",
    "\n",
    "df_test = pd.concat([X_test, y_test], axis=1)"
   ]
  },
  {
   "cell_type": "markdown",
   "id": "9c87572b",
   "metadata": {},
   "source": [
    "# 3.0 Feature filtering"
   ]
  },
  {
   "cell_type": "code",
   "execution_count": 376,
   "id": "2f68021c",
   "metadata": {},
   "outputs": [],
   "source": [
    "df3 = df2.copy()"
   ]
  },
  {
   "cell_type": "markdown",
   "id": "a485a9a6",
   "metadata": {},
   "source": [
    "## 3.1 Row filtering"
   ]
  },
  {
   "cell_type": "markdown",
   "id": "7a233295",
   "metadata": {},
   "source": [
    "## 3.2 Column filtering"
   ]
  },
  {
   "cell_type": "code",
   "execution_count": 384,
   "id": "c3f0228a",
   "metadata": {},
   "outputs": [
    {
     "data": {
      "text/plain": [
       "Index(['id', 'usableAreas', 'parkingSpaces', 'suites', 'bathrooms', 'bedrooms',\n",
       "       'unitFloor', 'createdAt_dt', 'locationLon', 'locationLat', 'yearlyIptu',\n",
       "       'monthlyCondoFee', 'amenitiesCount', 'amenitiesElevator',\n",
       "       'amenitiesPool', 'amenitiesGym', 'amenitiesBarbecue', 'createdAt_year',\n",
       "       'createdAt_month', 'createdAt_day', 'unitaryValue'],\n",
       "      dtype='object')"
      ]
     },
     "execution_count": 384,
     "metadata": {},
     "output_type": "execute_result"
    }
   ],
   "source": [
    "cols_drop = ['amenitiesList']\n",
    "df3 = df3.drop(cols_drop, axis=1)\n",
    "df3.columns"
   ]
  }
 ],
 "metadata": {
  "kernelspec": {
   "display_name": "Python 3 (ipykernel)",
   "language": "python",
   "name": "python3"
  },
  "language_info": {
   "codemirror_mode": {
    "name": "ipython",
    "version": 3
   },
   "file_extension": ".py",
   "mimetype": "text/x-python",
   "name": "python",
   "nbconvert_exporter": "python",
   "pygments_lexer": "ipython3",
   "version": "3.12.0"
  }
 },
 "nbformat": 4,
 "nbformat_minor": 5
}
